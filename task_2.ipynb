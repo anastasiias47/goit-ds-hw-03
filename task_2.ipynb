{
 "cells": [
  {
   "cell_type": "code",
   "execution_count": 105,
   "metadata": {},
   "outputs": [],
   "source": [
    "import requests\n",
    "from bs4 import BeautifulSoup\n",
    "import re\n",
    "from pymongo import MongoClient\n",
    "from pymongo.server_api import ServerApi\n",
    "from bson.objectid import ObjectId\n",
    "import lxml"
   ]
  },
  {
   "cell_type": "code",
   "execution_count": 106,
   "metadata": {},
   "outputs": [],
   "source": [
    "URL = 'https://quotes.toscrape.com/'"
   ]
  },
  {
   "cell_type": "code",
   "execution_count": 107,
   "metadata": {},
   "outputs": [
    {
     "data": {
      "text/plain": [
       "['https://quotes.toscrape.com/author/Albert-Einstein',\n",
       " 'https://quotes.toscrape.com/author/J-K-Rowling',\n",
       " 'https://quotes.toscrape.com/author/Albert-Einstein',\n",
       " 'https://quotes.toscrape.com/author/Jane-Austen',\n",
       " 'https://quotes.toscrape.com/author/Marilyn-Monroe',\n",
       " 'https://quotes.toscrape.com/author/Albert-Einstein',\n",
       " 'https://quotes.toscrape.com/author/Andre-Gide',\n",
       " 'https://quotes.toscrape.com/author/Thomas-A-Edison',\n",
       " 'https://quotes.toscrape.com/author/Eleanor-Roosevelt',\n",
       " 'https://quotes.toscrape.com/author/Steve-Martin']"
      ]
     },
     "execution_count": 107,
     "metadata": {},
     "output_type": "execute_result"
    }
   ],
   "source": [
    "def get_url_list():\n",
    "    html_doc = requests.get(URL)\n",
    "    soup = BeautifulSoup(html_doc.text)\n",
    "    url_list = []\n",
    "\n",
    "    content = soup.select('div[class = quote] span a')\n",
    "    for link in content:\n",
    "        url = URL + re.search(r'\\w+/\\S+', link['href']).group()\n",
    "        url_list.append(url)\n",
    "\n",
    "    return url_list\n",
    "\n",
    "get_url_list()"
   ]
  },
  {
   "cell_type": "code",
   "execution_count": 108,
   "metadata": {},
   "outputs": [],
   "source": [
    "authors = []\n",
    "quotes = []\n",
    "\n",
    "for link in get_url_list():\n",
    "    html_doc = requests.get(link)\n",
    "    soup = BeautifulSoup(html_doc.text, 'lxml')\n",
    "    author_info = {}\n",
    "\n",
    "    author_details = soup.select_one('div[class = author-details]')\n",
    "\n",
    "    author_info['fullname'] = author_details.find('h3', {'class':'author-title'}).text\n",
    "    author_info['born_date'] = author_details.find('span', attrs = {'class':\"author-born-date\"}).text\n",
    "    author_info['born_location'] = author_details.find('span', attrs = {'class':\"author-born-location\"}).text\n",
    "    author_info['description'] = author_details.find('div', attrs = {'class':\"author-description\"}).text\n",
    "        \n",
    "    authors.append(author_info)\n"
   ]
  },
  {
   "cell_type": "code",
   "execution_count": 109,
   "metadata": {},
   "outputs": [],
   "source": [
    "\n",
    "html_doc = requests.get(URL)\n",
    "soup = BeautifulSoup(html_doc.text)\n",
    "quotes_details = soup.select('div[class=quote]')\n",
    "\n",
    "for quote in quotes_details:\n",
    "    quotes_info = {}\n",
    "    quotes_info['tags'] = quote.find('meta', attrs={'class':'keywords'}).get('content').split(',')\n",
    "    quotes_info['authors'] = quote.find('small', attrs={'class':'author'}).text\n",
    "    quotes_info['quote'] = quote.find('span', attrs={'class':'text'}).text[1:-2]\n",
    "\n",
    "    quotes.append(quotes_info)\n"
   ]
  },
  {
   "cell_type": "code",
   "execution_count": 110,
   "metadata": {},
   "outputs": [],
   "source": [
    "import json\n",
    "\n",
    "with open ('authors.json', 'w', encoding='utf-8') as f:\n",
    "    json.dump(authors, f, ensure_ascii=False, indent=4) \n"
   ]
  },
  {
   "cell_type": "code",
   "execution_count": 111,
   "metadata": {},
   "outputs": [],
   "source": [
    "with open ('quotes.json', 'w', encoding='utf-8') as f:\n",
    "    json.dump(quotes, f, ensure_ascii=False, indent=4) \n"
   ]
  }
 ],
 "metadata": {
  "kernelspec": {
   "display_name": "goit-ds-hw-03-ijiLwJPD",
   "language": "python",
   "name": "python3"
  },
  "language_info": {
   "codemirror_mode": {
    "name": "ipython",
    "version": 3
   },
   "file_extension": ".py",
   "mimetype": "text/x-python",
   "name": "python",
   "nbconvert_exporter": "python",
   "pygments_lexer": "ipython3",
   "version": "3.12.6"
  }
 },
 "nbformat": 4,
 "nbformat_minor": 2
}
